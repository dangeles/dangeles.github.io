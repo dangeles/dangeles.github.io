{
 "cells": [
  {
   "cell_type": "code",
   "execution_count": 1,
   "metadata": {},
   "outputs": [],
   "source": [
    "import pandas as pd\n",
    "import numpy as np\n",
    "import matplotlib as mpl\n",
    "import matplotlib.pyplot as plt\n",
    "import seaborn as sns\n",
    "import datetime as dt\n",
    "import scipy\n",
    "from matplotlib import rc\n",
    "from scipy.signal import savgol_filter\n",
    "\n",
    "\n",
    "rc('text', usetex=True)\n",
    "rc('text.latex', preamble=r'\\usepackage{cmbright}')\n",
    "rc('font', **{'family': 'sans-serif', 'sans-serif': ['Helvetica']})\n",
    "\n",
    "%matplotlib inline\n",
    "\n",
    "# This enables SVG graphics inline. \n",
    "%config InlineBackend.figure_formats = {'png', 'retina'}\n",
    "\n",
    "rc = {'lines.linewidth': 2, \n",
    "      'axes.labelsize': 18, \n",
    "      'axes.titlesize': 18, \n",
    "      'axes.facecolor': 'DFDFE5'}\n",
    "sns.set_context('notebook', rc=rc)\n",
    "sns.set_style(\"dark\")\n",
    "\n",
    "mpl.rcParams['xtick.labelsize'] = 16 \n",
    "mpl.rcParams['ytick.labelsize'] = 16 \n",
    "mpl.rcParams['legend.fontsize'] = 14\n",
    "\n",
    "import sys\n",
    "sys.path.append('./utils')\n",
    "import covid_utils as cv"
   ]
  },
  {
   "cell_type": "code",
   "execution_count": 5,
   "metadata": {},
   "outputs": [
    {
     "name": "stdout",
     "output_type": "stream",
     "text": [
      "Reading data\n",
      "Searching last date available for confirmed...\n"
     ]
    },
    {
     "ename": "RuntimeError",
     "evalue": "No date found for confirmed",
     "output_type": "error",
     "traceback": [
      "\u001b[0;31m---------------------------------------------------------------------------\u001b[0m",
      "\u001b[0;31mRuntimeError\u001b[0m                              Traceback (most recent call last)",
      "\u001b[0;32m<ipython-input-5-ac5c25c85d00>\u001b[0m in \u001b[0;36m<module>\u001b[0;34m\u001b[0m\n\u001b[1;32m      1\u001b[0m \u001b[0;32mfrom\u001b[0m \u001b[0mcovidmx\u001b[0m \u001b[0;32mimport\u001b[0m \u001b[0mCovidMX\u001b[0m\u001b[0;34m\u001b[0m\u001b[0;34m\u001b[0m\u001b[0m\n\u001b[1;32m      2\u001b[0m \u001b[0;34m\u001b[0m\u001b[0m\n\u001b[0;32m----> 3\u001b[0;31m \u001b[0mdf\u001b[0m \u001b[0;34m=\u001b[0m \u001b[0mCovidMX\u001b[0m\u001b[0;34m(\u001b[0m\u001b[0msource\u001b[0m\u001b[0;34m=\u001b[0m\u001b[0;34m'Serendipia'\u001b[0m\u001b[0;34m)\u001b[0m\u001b[0;34m.\u001b[0m\u001b[0mget_data\u001b[0m\u001b[0;34m(\u001b[0m\u001b[0;34m)\u001b[0m\u001b[0;34m\u001b[0m\u001b[0;34m\u001b[0m\u001b[0m\n\u001b[0m\u001b[1;32m      4\u001b[0m \u001b[0mdf\u001b[0m\u001b[0;34m.\u001b[0m\u001b[0msort_values\u001b[0m\u001b[0;34m(\u001b[0m\u001b[0;34m'fecha_de_inicio_de_sintomas'\u001b[0m\u001b[0;34m,\u001b[0m \u001b[0minplace\u001b[0m\u001b[0;34m=\u001b[0m\u001b[0;32mTrue\u001b[0m\u001b[0;34m)\u001b[0m\u001b[0;34m\u001b[0m\u001b[0;34m\u001b[0m\u001b[0m\n\u001b[1;32m      5\u001b[0m \u001b[0mdf\u001b[0m\u001b[0;34m.\u001b[0m\u001b[0mhead\u001b[0m\u001b[0;34m(\u001b[0m\u001b[0;34m)\u001b[0m\u001b[0;34m\u001b[0m\u001b[0;34m\u001b[0m\u001b[0m\n",
      "\u001b[0;32m/opt/anaconda3/envs/covid/lib/python3.8/site-packages/covidmx/serendipia.py\u001b[0m in \u001b[0;36mget_data\u001b[0;34m(self)\u001b[0m\n\u001b[1;32m     62\u001b[0m \u001b[0;34m\u001b[0m\u001b[0m\n\u001b[1;32m     63\u001b[0m         \u001b[0mprint\u001b[0m\u001b[0;34m(\u001b[0m\u001b[0;34m'Reading data'\u001b[0m\u001b[0;34m)\u001b[0m\u001b[0;34m\u001b[0m\u001b[0;34m\u001b[0m\u001b[0m\n\u001b[0;32m---> 64\u001b[0;31m         dfs = [\n\u001b[0m\u001b[1;32m     65\u001b[0m             self.read_data(\n\u001b[1;32m     66\u001b[0m                 \u001b[0mdt\u001b[0m\u001b[0;34m,\u001b[0m \u001b[0mki\u001b[0m\u001b[0;34m)\u001b[0m \u001b[0;32mfor\u001b[0m \u001b[0mdt\u001b[0m\u001b[0;34m,\u001b[0m \u001b[0mki\u001b[0m \u001b[0;32min\u001b[0m \u001b[0mproduct\u001b[0m\u001b[0;34m(\u001b[0m\u001b[0;34m\u001b[0m\u001b[0;34m\u001b[0m\u001b[0m\n",
      "\u001b[0;32m/opt/anaconda3/envs/covid/lib/python3.8/site-packages/covidmx/serendipia.py\u001b[0m in \u001b[0;36m<listcomp>\u001b[0;34m(.0)\u001b[0m\n\u001b[1;32m     63\u001b[0m         \u001b[0mprint\u001b[0m\u001b[0;34m(\u001b[0m\u001b[0;34m'Reading data'\u001b[0m\u001b[0;34m)\u001b[0m\u001b[0;34m\u001b[0m\u001b[0;34m\u001b[0m\u001b[0m\n\u001b[1;32m     64\u001b[0m         dfs = [\n\u001b[0;32m---> 65\u001b[0;31m             self.read_data(\n\u001b[0m\u001b[1;32m     66\u001b[0m                 \u001b[0mdt\u001b[0m\u001b[0;34m,\u001b[0m \u001b[0mki\u001b[0m\u001b[0;34m)\u001b[0m \u001b[0;32mfor\u001b[0m \u001b[0mdt\u001b[0m\u001b[0;34m,\u001b[0m \u001b[0mki\u001b[0m \u001b[0;32min\u001b[0m \u001b[0mproduct\u001b[0m\u001b[0;34m(\u001b[0m\u001b[0;34m\u001b[0m\u001b[0;34m\u001b[0m\u001b[0m\n\u001b[1;32m     67\u001b[0m                 [self.date], self.kind)]\n",
      "\u001b[0;32m/opt/anaconda3/envs/covid/lib/python3.8/site-packages/covidmx/serendipia.py\u001b[0m in \u001b[0;36mread_data\u001b[0;34m(self, date, kind)\u001b[0m\n\u001b[1;32m     78\u001b[0m \u001b[0;34m\u001b[0m\u001b[0m\n\u001b[1;32m     79\u001b[0m         \u001b[0;32mif\u001b[0m \u001b[0mself\u001b[0m\u001b[0;34m.\u001b[0m\u001b[0msearch_date\u001b[0m\u001b[0;34m:\u001b[0m\u001b[0;34m\u001b[0m\u001b[0;34m\u001b[0m\u001b[0m\n\u001b[0;32m---> 80\u001b[0;31m             \u001b[0mdf\u001b[0m\u001b[0;34m,\u001b[0m \u001b[0mfound_date\u001b[0m \u001b[0;34m=\u001b[0m \u001b[0mself\u001b[0m\u001b[0;34m.\u001b[0m\u001b[0msearch_data\u001b[0m\u001b[0;34m(\u001b[0m\u001b[0;36m5\u001b[0m\u001b[0;34m,\u001b[0m \u001b[0mkind\u001b[0m\u001b[0;34m)\u001b[0m\u001b[0;34m\u001b[0m\u001b[0;34m\u001b[0m\u001b[0m\n\u001b[0m\u001b[1;32m     81\u001b[0m \u001b[0;34m\u001b[0m\u001b[0m\n\u001b[1;32m     82\u001b[0m             \u001b[0;32mif\u001b[0m \u001b[0mself\u001b[0m\u001b[0;34m.\u001b[0m\u001b[0madd_search_date\u001b[0m\u001b[0;34m:\u001b[0m\u001b[0;34m\u001b[0m\u001b[0;34m\u001b[0m\u001b[0m\n",
      "\u001b[0;32m/opt/anaconda3/envs/covid/lib/python3.8/site-packages/covidmx/serendipia.py\u001b[0m in \u001b[0;36msearch_data\u001b[0;34m(self, max_times, kind)\u001b[0m\n\u001b[1;32m    116\u001b[0m                 \u001b[0;32mcontinue\u001b[0m\u001b[0;34m\u001b[0m\u001b[0;34m\u001b[0m\u001b[0m\n\u001b[1;32m    117\u001b[0m \u001b[0;34m\u001b[0m\u001b[0m\n\u001b[0;32m--> 118\u001b[0;31m         \u001b[0;32mraise\u001b[0m \u001b[0mRuntimeError\u001b[0m\u001b[0;34m(\u001b[0m\u001b[0;34m'No date found for {}'\u001b[0m\u001b[0;34m.\u001b[0m\u001b[0mformat\u001b[0m\u001b[0;34m(\u001b[0m\u001b[0mkind\u001b[0m\u001b[0;34m)\u001b[0m\u001b[0;34m)\u001b[0m\u001b[0;34m\u001b[0m\u001b[0;34m\u001b[0m\u001b[0m\n\u001b[0m\u001b[1;32m    119\u001b[0m \u001b[0;34m\u001b[0m\u001b[0m\n\u001b[1;32m    120\u001b[0m     \u001b[0;32mdef\u001b[0m \u001b[0mclean_data\u001b[0m\u001b[0;34m(\u001b[0m\u001b[0mself\u001b[0m\u001b[0;34m,\u001b[0m \u001b[0mdf\u001b[0m\u001b[0;34m)\u001b[0m\u001b[0;34m:\u001b[0m\u001b[0;34m\u001b[0m\u001b[0;34m\u001b[0m\u001b[0m\n",
      "\u001b[0;31mRuntimeError\u001b[0m: No date found for confirmed"
     ]
    }
   ],
   "source": [
    "from covidmx import CovidMX\n",
    "\n",
    "df = CovidMX(source='Serendipia').get_data()\n",
    "df.sort_values('fecha_de_inicio_de_sintomas', inplace=True)\n",
    "df.head()"
   ]
  },
  {
   "cell_type": "code",
   "execution_count": null,
   "metadata": {},
   "outputs": [],
   "source": [
    "cumdf = df.groupby(['estado', 'fecha_de_inicio_de_sintomas'])['identificacion'].count().reset_index()\n",
    "cumdf['cases'] = cumdf.groupby('estado').identificacion.apply(np.cumsum)"
   ]
  },
  {
   "cell_type": "code",
   "execution_count": null,
   "metadata": {},
   "outputs": [],
   "source": [
    "def growth(t, a, tau, b):\n",
    "    \"\"\"Exponential growth function.\"\"\"\n",
    "    return a * np.exp(t / tau) + b\n",
    "\n",
    "def plot_mx(cumdf, ax, gradient=False, col='cases', cond = (cumdf.cases > 1)):\n",
    "    for n, g in cumdf[cond].groupby('estado'):\n",
    "        x = (g.fecha_de_inicio_de_sintomas - g.fecha_de_inicio_de_sintomas.min()) / dt.timedelta(days=1)\n",
    "\n",
    "        if n == 'CIUDAD DE MÉXICO':\n",
    "            color = 'green'\n",
    "            alpha = 1\n",
    "            label='Cd. México'\n",
    "            s = 7\n",
    "            zorder = np.inf\n",
    "        else:\n",
    "            color = 'black'\n",
    "            alpha = 0.1\n",
    "            label = '_'\n",
    "            s = 4\n",
    "            zorder = 0\n",
    "\n",
    "        y = savgol_filter(g[col], 7, 3)\n",
    "        if gradient:\n",
    "            y = np.gradient(y, x)\n",
    "        ax.plot(x, y, color=color, alpha=alpha, label=label, lw=s, zorder=zorder)\n",
    "\n",
    "    ax.set_yscale('log')\n",
    "    ax.set_xlabel('Dias desde 1 casos')\n",
    "    ax.legend()\n",
    "    return ax\n",
    "\n",
    "def fit_to_subset(g, cond, **kwargs):\n",
    "    x = (g.fecha_de_inicio_de_sintomas - g[cond].fecha_de_inicio_de_sintomas.min()) / dt.timedelta(days=1)\n",
    "    xr = (g.fecha_de_inicio_de_sintomas - g.fecha_de_inicio_de_sintomas.min()) / dt.timedelta(days=1)\n",
    "    \n",
    "    xp = (g[cond].fecha_de_inicio_de_sintomas - g[cond].fecha_de_inicio_de_sintomas.min()) / dt.timedelta(days=1)\n",
    "    fit, covs = scipy.optimize.curve_fit(growth, xp, g[cond].cases)\n",
    "    \n",
    "    a, tau, b = fit\n",
    "    ax[0].plot(xr, growth(x, a, tau, b), label='Casos Cum. $\\sim$ exp(t / {0:.2g})'.format(tau), zorder=np.inf, **kwargs)\n",
    "    ax[1].plot(xr, a / tau * np.exp(x / tau), label='Casos Cum. $\\sim$ exp(t / {0:.2g})'.format(tau), zorder=np.inf, **kwargs)\n",
    "    return fit, covs\n",
    "\n",
    "\n",
    "fig, ax = plt.subplots(ncols=2, figsize=(15, 5))\n",
    "\n",
    "ax[0] = plot_mx(cumdf, ax[0])\n",
    "ax[1] = plot_mx(cumdf, ax[1], 'identificacion')\n",
    "\n",
    "for n, g in cumdf[cumdf.cases > 1].groupby('estado'):\n",
    "    if n != 'CIUDAD DE MÉXICO':\n",
    "        continue\n",
    "    fit1, covs1 = fit_to_subset(g, (g.cases > 1) & (g.cases <150), ls='dotted', lw=3, color='black')\n",
    "    fit2, covs2 = fit_to_subset(g, (g.cases > 100) & (g.cases < 4000), ls='--', lw=3, color='black')\n",
    "    break\n",
    "\n",
    "ax[0].set_ylabel('Casos Cumulativos')\n",
    "ax[1].set_ylabel('Casos por Dia')\n",
    "plt.legend(loc=(1, .5))\n",
    "ax[0].set_ylim(1, 10 ** 6)\n",
    "ax[1].set_ylim(1, 5 * 10 ** 5)\n",
    "plt.tight_layout()"
   ]
  },
  {
   "cell_type": "code",
   "execution_count": null,
   "metadata": {},
   "outputs": [],
   "source": [
    "# fetch NYT data:\n",
    "url = 'https://raw.githubusercontent.com/nytimes/covid-19-data/master/us-states.csv'\n",
    "nyt = pd.read_csv(url, usecols=[0, 1, 3, 4], parse_dates=['date'], squeeze=True)\n",
    "nyt = nyt[nyt.date < dt.datetime(year=2020, month=4, day=5)]"
   ]
  },
  {
   "cell_type": "code",
   "execution_count": null,
   "metadata": {},
   "outputs": [],
   "source": [
    "tau_cases, cov_cases = cv.plot_time(nyt, 'cases', alpha=0.4)"
   ]
  },
  {
   "cell_type": "code",
   "execution_count": null,
   "metadata": {},
   "outputs": [],
   "source": [
    "fig, ax = plt.subplots()\n",
    "\n",
    "first = True\n",
    "for name, t in tau_cases.items():\n",
    "    if (cov_cases[name] <= 0) | (cov_cases[name] > 10 ** 5):\n",
    "        continue\n",
    "    if first:\n",
    "        label = 'Estado de EUA'\n",
    "    else:\n",
    "        label = '_Estado de EUA'\n",
    "    plt.scatter(t, np.sqrt(cov_cases[name]), color='black', alpha=0.5, label=label)\n",
    "    first = False\n",
    "plt.scatter(fit1[1], np.sqrt(np.diag(covs1)[1]), s=100, label='Primera Fase')\n",
    "plt.scatter(fit2[1], np.sqrt(np.diag(covs2)[1]), s=100, label='Segunda Fase')\n",
    "\n",
    "plt.ylim(10 ** -1, 100)\n",
    "plt.xlim(1, 40)\n",
    "plt.yscale('log')\n",
    "plt.legend()\n",
    "plt.xlabel(r'$\\tau$')\n",
    "plt.ylabel(r'$\\sigma_{\\tau}$')\n",
    "\n",
    "_ = fig.suptitle('Los datos mexicanos tienen anomalías', fontsize=20)"
   ]
  },
  {
   "cell_type": "code",
   "execution_count": null,
   "metadata": {},
   "outputs": [],
   "source": []
  }
 ],
 "metadata": {
  "kernelspec": {
   "display_name": "Python 3",
   "language": "python",
   "name": "python3"
  },
  "language_info": {
   "codemirror_mode": {
    "name": "ipython",
    "version": 3
   },
   "file_extension": ".py",
   "mimetype": "text/x-python",
   "name": "python",
   "nbconvert_exporter": "python",
   "pygments_lexer": "ipython3",
   "version": "3.8.2"
  },
  "latex_envs": {
   "LaTeX_envs_menu_present": true,
   "autoclose": false,
   "autocomplete": true,
   "bibliofile": "biblio.bib",
   "cite_by": "apalike",
   "current_citInitial": 1,
   "eqLabelWithNumbers": true,
   "eqNumInitial": 1,
   "hotkeys": {
    "equation": "Ctrl-E",
    "itemize": "Ctrl-I"
   },
   "labels_anchors": false,
   "latex_user_defs": false,
   "report_style_numbering": false,
   "user_envs_cfg": false
  },
  "toc": {
   "base_numbering": 1,
   "nav_menu": {},
   "number_sections": true,
   "sideBar": true,
   "skip_h1_title": false,
   "title_cell": "Table of Contents",
   "title_sidebar": "Contents",
   "toc_cell": false,
   "toc_position": {},
   "toc_section_display": true,
   "toc_window_display": false
  }
 },
 "nbformat": 4,
 "nbformat_minor": 2
}
