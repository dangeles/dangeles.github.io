{
 "cells": [
  {
   "cell_type": "code",
   "execution_count": 1,
   "metadata": {},
   "outputs": [],
   "source": [
    "import pandas as pd\n",
    "import numpy as np\n",
    "import matplotlib as mpl\n",
    "import matplotlib.pyplot as plt\n",
    "import seaborn as sns\n",
    "from matplotlib import rc\n",
    "\n",
    "rc('text', usetex=True)\n",
    "rc('text.latex', preamble=r'\\usepackage{cmbright}')\n",
    "rc('font', **{'family': 'sans-serif', 'sans-serif': ['Helvetica']})\n",
    "\n",
    "%matplotlib inline\n",
    "\n",
    "# This enables SVG graphics inline. \n",
    "%config InlineBackend.figure_formats = {'png', 'retina'}\n",
    "\n",
    "rc = {'lines.linewidth': 2, \n",
    "      'axes.labelsize': 18, \n",
    "      'axes.titlesize': 18, \n",
    "      'axes.facecolor': 'DFDFE5'}\n",
    "sns.set_context('notebook', rc=rc)\n",
    "sns.set_style(\"dark\")\n",
    "\n",
    "mpl.rcParams['xtick.labelsize'] = 16 \n",
    "mpl.rcParams['ytick.labelsize'] = 16 \n",
    "mpl.rcParams['legend.fontsize'] = 14"
   ]
  },
  {
   "cell_type": "code",
   "execution_count": 9,
   "metadata": {},
   "outputs": [],
   "source": [
    "import yfinance as yf"
   ]
  },
  {
   "cell_type": "code",
   "execution_count": 86,
   "metadata": {},
   "outputs": [
    {
     "name": "stderr",
     "output_type": "stream",
     "text": [
      "/Users/davidangeles/opt/anaconda3/lib/python3.7/site-packages/ipykernel_launcher.py:7: FutureWarning: The default value of regex will change from True to False in a future version. In addition, single character regular expressions will*not* be treated as literal strings when regex=True.\n",
      "  import sys\n"
     ]
    }
   ],
   "source": [
    "# df = pd.read_csv('https://senate-stock-watcher-data.s3-us-west-2.amazonaws.com/aggregate/all_transactions.csv')\n",
    "df.transaction_date = pd.to_datetime(df.transaction_date)\n",
    "df.disclosure_date = pd.to_datetime(df.disclosure_date)\n",
    "df['Delta'] = (df.disclosure_date - df.transaction_date).astype('timedelta64[D]')\n",
    "df = df[(df.asset_type == 'Stock') & (df.type.str.contains('Purchase')) & (df.Delta < 250)]\n",
    "\n",
    "df['geometric_amount'] = df.amount.str.replace('$', '')\\\n",
    "                                  .str.replace(',', '')\\\n",
    "                                  .str.split(' - ', expand=True)\\\n",
    "                                  .astype(int).apply(lambda x: np.sqrt(x[0] * x[1]), axis=1)\n",
    "\n"
   ]
  },
  {
   "cell_type": "code",
   "execution_count": 87,
   "metadata": {},
   "outputs": [
    {
     "name": "stdout",
     "output_type": "stream",
     "text": [
      "[*********************100%***********************]  609 of 609 completed\n",
      "\n",
      "56 Failed downloads:\n",
      "- UA-C: No data found, symbol may be delisted\n",
      "- LLTC: None\n",
      "- RAI: No data found for this date range, symbol may be delisted\n",
      "- EQM: No data found, symbol may be delisted\n",
      "- DLPH: No data found, symbol may be delisted\n",
      "- FDC: No data found, symbol may be delisted\n",
      "- AXLL: No data found for this date range, symbol may be delisted\n",
      "- STI: No data found, symbol may be delisted\n",
      "- WTW: No data found, symbol may be delisted\n",
      "- UN: No data found, symbol may be delisted\n",
      "- PHLD: No data found, symbol may be delisted\n",
      "- RHT: No data found, symbol may be delisted\n",
      "- MIK: No data found, symbol may be delisted\n",
      "- EV: No data found, symbol may be delisted\n",
      "- MSTY.PA: No data found, symbol may be delisted\n",
      "- USG: No data found, symbol may be delisted\n",
      "- CBS: No data found, symbol may be delisted\n",
      "- AVP: No data found, symbol may be delisted\n",
      "- ANDX: No data found, symbol may be delisted\n",
      "- Q: No data found for this date range, symbol may be delisted\n",
      "- WPX: No data found, symbol may be delisted\n",
      "- VSM: No data found, symbol may be delisted\n",
      "- RTN: No data found, symbol may be delisted\n",
      "- DNKN: No data found, symbol may be delisted\n",
      "- UTX: No data found, symbol may be delisted\n",
      "- HYH: No data found for this date range, symbol may be delisted\n",
      "- XON: No data found, symbol may be delisted\n",
      "- TMK: No data found, symbol may be delisted\n",
      "- HDS: No data found, symbol may be delisted\n",
      "- NEE-PC: No data found, symbol may be delisted\n",
      "- NTRP: No data found, symbol may be delisted\n",
      "- AGN: No data found, symbol may be delisted\n",
      "- DGNR: No data found, symbol may be delisted\n",
      "- SBUX.SW: No data found, symbol may be delisted\n",
      "- HRS: No data found, symbol may be delisted\n",
      "- BPL: No data found, symbol may be delisted\n",
      "- CELG: No data found, symbol may be delisted\n",
      "- MXIM: No data found, symbol may be delisted\n",
      "- NBL: No data found, symbol may be delisted\n",
      "- NPSND: No data found for this date range, symbol may be delisted\n",
      "- SPY160219P00180000: No data found, symbol may be delisted\n",
      "- FEYE: No data found, symbol may be delisted\n",
      "- --: No data found, symbol may be delisted\n",
      "- MYL: No data found, symbol may be delisted\n",
      "- PCLN: None\n",
      "- BUNT: None\n",
      "- 3V64.TI: None\n",
      "- TCP: No data found, symbol may be delisted\n",
      "- DPM: No data found for this date range, symbol may be delisted\n",
      "- DPS: None\n",
      "- BRKB: No data found, symbol may be delisted\n",
      "- WFM: None\n",
      "- OKS: None\n",
      "- VIAB: No data found, symbol may be delisted\n",
      "- DWDP: No data found, symbol may be delisted\n",
      "- KORS: None\n"
     ]
    }
   ],
   "source": [
    "tsla_df = yf.download(df.ticker.dropna().unique().tolist())\n",
    "stocks = tsla_df.loc[tsla_df.index > dt.datetime(2014, 1, 1)].dropna(how='all')\n",
    "found = [s[1] for s in stocks.columns]"
   ]
  },
  {
   "cell_type": "code",
   "execution_count": 88,
   "metadata": {},
   "outputs": [
    {
     "data": {
      "image/png": "[encoded data removed]",
      "text/plain": [
       "<Figure size 432x288 with 1 Axes>"
      ]
     },
     "metadata": {
      "image/png": {
       "height": 255,
       "width": 381
      }
     },
     "output_type": "display_data"
    }
   ],
   "source": [
    "plt.hist((df.disclosure_date - df.transaction_date).astype('timedelta64[D]'))\n",
    "plt.yscale('log')"
   ]
  },
  {
   "cell_type": "code",
   "execution_count": 89,
   "metadata": {},
   "outputs": [
    {
     "data": {
      "text/plain": [
       "count    3.241000e+03\n",
       "mean     3.195649e+04\n",
       "std      6.543480e+05\n",
       "min      3.874919e+03\n",
       "25%      3.874919e+03\n",
       "50%      3.874919e+03\n",
       "75%      3.874919e+03\n",
       "max      3.535534e+07\n",
       "Name: geometric_amount, dtype: float64"
      ]
     },
     "execution_count": 89,
     "metadata": {},
     "output_type": "execute_result"
    },
    {
     "data": {
      "image/png": "[encoded data removed]",
      "text/plain": [
       "<Figure size 432x288 with 1 Axes>"
      ]
     },
     "metadata": {
      "image/png": {
       "height": 255,
       "width": 392
      }
     },
     "output_type": "display_data"
    }
   ],
   "source": [
    "plt.hist(df.geometric_amount.apply(np.log10))\n",
    "df.geometric_amount.describe()"
   ]
  },
  {
   "cell_type": "code",
   "execution_count": 173,
   "metadata": {},
   "outputs": [],
   "source": [
    "V = []\n",
    "D = []\n",
    "T = []\n",
    "G = []\n",
    "P = []\n",
    "for ticker, group in df.groupby('ticker'):\n",
    "    if (ticker not in found) or (ticker == '--'):\n",
    "        continue\n",
    "    try:\n",
    "        value = stocks.loc[group.transaction_date.unique()][('Open', ticker)].to_list()\n",
    "        D += np.datetime_as_string(group.transaction_date.unique()).tolist()\n",
    "        T += [ticker] * group.transaction_date.nunique()\n",
    "        V += value\n",
    "        G += group.groupby('transaction_date').geometric_amount.sum().to_list()\n",
    "        P += group.groupby('transaction_date').senator.unique().to_list()\n",
    "    except:\n",
    "        continue\n",
    "\n",
    "data = pd.DataFrame(zip(T, D, V, G, P), columns=['ticker', 'transaction_date', 'open_value', 'geometric_amount', 'buyers'])\n",
    "data.transaction_date = pd.to_datetime(data.transaction_date)"
   ]
  },
  {
   "cell_type": "code",
   "execution_count": 174,
   "metadata": {},
   "outputs": [
    {
     "data": {
      "text/html": [
       "<div>\n",
       "<style scoped>\n",
       "    .dataframe tbody tr th:only-of-type {\n",
       "        vertical-align: middle;\n",
       "    }\n",
       "\n",
       "    .dataframe tbody tr th {\n",
       "        vertical-align: top;\n",
       "    }\n",
       "\n",
       "    .dataframe thead th {\n",
       "        text-align: right;\n",
       "    }\n",
       "</style>\n",
       "<table border=\"1\" class=\"dataframe\">\n",
       "  <thead>\n",
       "    <tr style=\"text-align: right;\">\n",
       "      <th></th>\n",
       "      <th>ticker</th>\n",
       "      <th>transaction_date</th>\n",
       "      <th>open_value</th>\n",
       "      <th>geometric_amount</th>\n",
       "      <th>buyers</th>\n",
       "    </tr>\n",
       "  </thead>\n",
       "  <tbody>\n",
       "    <tr>\n",
       "      <th>719</th>\n",
       "      <td>DD</td>\n",
       "      <td>2014-09-15</td>\n",
       "      <td>75.006317</td>\n",
       "      <td>3874.919354</td>\n",
       "      <td>[Kelly Loeffler]</td>\n",
       "    </tr>\n",
       "    <tr>\n",
       "      <th>1567</th>\n",
       "      <td>MDDVX</td>\n",
       "      <td>2014-12-10</td>\n",
       "      <td>25.670000</td>\n",
       "      <td>7749.838708</td>\n",
       "      <td>[Susan M Collins]</td>\n",
       "    </tr>\n",
       "    <tr>\n",
       "      <th>1586</th>\n",
       "      <td>MIK</td>\n",
       "      <td>2014-12-11</td>\n",
       "      <td>NaN</td>\n",
       "      <td>3874.919354</td>\n",
       "      <td>[Pat Roberts]</td>\n",
       "    </tr>\n",
       "    <tr>\n",
       "      <th>835</th>\n",
       "      <td>DVFAX</td>\n",
       "      <td>2014-12-11</td>\n",
       "      <td>15.940000</td>\n",
       "      <td>3874.919354</td>\n",
       "      <td>[Susan M Collins]</td>\n",
       "    </tr>\n",
       "    <tr>\n",
       "      <th>2413</th>\n",
       "      <td>WASCX</td>\n",
       "      <td>2014-12-11</td>\n",
       "      <td>24.799999</td>\n",
       "      <td>3874.919354</td>\n",
       "      <td>[Susan M Collins]</td>\n",
       "    </tr>\n",
       "    <tr>\n",
       "      <th>...</th>\n",
       "      <td>...</td>\n",
       "      <td>...</td>\n",
       "      <td>...</td>\n",
       "      <td>...</td>\n",
       "      <td>...</td>\n",
       "    </tr>\n",
       "    <tr>\n",
       "      <th>2101</th>\n",
       "      <td>SNOW</td>\n",
       "      <td>2021-10-22</td>\n",
       "      <td>340.390015</td>\n",
       "      <td>3874.919354</td>\n",
       "      <td>[Thomas R Carper]</td>\n",
       "    </tr>\n",
       "    <tr>\n",
       "      <th>2074</th>\n",
       "      <td>SCCO</td>\n",
       "      <td>2021-11-02</td>\n",
       "      <td>60.139999</td>\n",
       "      <td>158114.673576</td>\n",
       "      <td>[Thomas H Tuberville]</td>\n",
       "    </tr>\n",
       "    <tr>\n",
       "      <th>544</th>\n",
       "      <td>CLF</td>\n",
       "      <td>2021-11-08</td>\n",
       "      <td>23.500000</td>\n",
       "      <td>27387.040731</td>\n",
       "      <td>[Thomas H Tuberville]</td>\n",
       "    </tr>\n",
       "    <tr>\n",
       "      <th>1835</th>\n",
       "      <td>OFC</td>\n",
       "      <td>2021-11-29</td>\n",
       "      <td>26.270000</td>\n",
       "      <td>3874.919354</td>\n",
       "      <td>[Gary C Peters]</td>\n",
       "    </tr>\n",
       "    <tr>\n",
       "      <th>471</th>\n",
       "      <td>CAG</td>\n",
       "      <td>2021-11-29</td>\n",
       "      <td>31.690001</td>\n",
       "      <td>3874.919354</td>\n",
       "      <td>[Thomas R Carper]</td>\n",
       "    </tr>\n",
       "  </tbody>\n",
       "</table>\n",
       "<p>2556 rows × 5 columns</p>\n",
       "</div>"
      ],
      "text/plain": [
       "     ticker transaction_date  open_value  geometric_amount  \\\n",
       "719      DD       2014-09-15   75.006317       3874.919354   \n",
       "1567  MDDVX       2014-12-10   25.670000       7749.838708   \n",
       "1586    MIK       2014-12-11         NaN       3874.919354   \n",
       "835   DVFAX       2014-12-11   15.940000       3874.919354   \n",
       "2413  WASCX       2014-12-11   24.799999       3874.919354   \n",
       "...     ...              ...         ...               ...   \n",
       "2101   SNOW       2021-10-22  340.390015       3874.919354   \n",
       "2074   SCCO       2021-11-02   60.139999     158114.673576   \n",
       "544     CLF       2021-11-08   23.500000      27387.040731   \n",
       "1835    OFC       2021-11-29   26.270000       3874.919354   \n",
       "471     CAG       2021-11-29   31.690001       3874.919354   \n",
       "\n",
       "                     buyers  \n",
       "719        [Kelly Loeffler]  \n",
       "1567      [Susan M Collins]  \n",
       "1586          [Pat Roberts]  \n",
       "835       [Susan M Collins]  \n",
       "2413      [Susan M Collins]  \n",
       "...                     ...  \n",
       "2101      [Thomas R Carper]  \n",
       "2074  [Thomas H Tuberville]  \n",
       "544   [Thomas H Tuberville]  \n",
       "1835        [Gary C Peters]  \n",
       "471       [Thomas R Carper]  \n",
       "\n",
       "[2556 rows x 5 columns]"
      ]
     },
     "execution_count": 174,
     "metadata": {},
     "output_type": "execute_result"
    }
   ],
   "source": [
    "data.sort_values(\"transaction_date\")"
   ]
  },
  {
   "cell_type": "code",
   "execution_count": 163,
   "metadata": {},
   "outputs": [],
   "source": [
    "data['geometric_sum'] = G"
   ]
  },
  {
   "cell_type": "code",
   "execution_count": 171,
   "metadata": {},
   "outputs": [
    {
     "data": {
      "text/plain": [
       "[array(['Pat Roberts'], dtype=object), array(['Pat Roberts'], dtype=object)]"
      ]
     },
     "execution_count": 171,
     "metadata": {},
     "output_type": "execute_result"
    }
   ],
   "source": [
    "group.groupby('transaction_date').senator.unique().to_list()"
   ]
  },
  {
   "cell_type": "code",
   "execution_count": null,
   "metadata": {},
   "outputs": [],
   "source": []
  }
 ],
 "metadata": {
  "kernelspec": {
   "display_name": "Python 3",
   "language": "python",
   "name": "python3"
  },
  "language_info": {
   "codemirror_mode": {
    "name": "ipython",
    "version": 3
   },
   "file_extension": ".py",
   "mimetype": "text/x-python",
   "name": "python",
   "nbconvert_exporter": "python",
   "pygments_lexer": "ipython3",
   "version": "3.7.10"
  },
  "latex_envs": {
   "LaTeX_envs_menu_present": true,
   "autoclose": false,
   "autocomplete": true,
   "bibliofile": "biblio.bib",
   "cite_by": "apalike",
   "current_citInitial": 1,
   "eqLabelWithNumbers": true,
   "eqNumInitial": 1,
   "hotkeys": {
    "equation": "Ctrl-E",
    "itemize": "Ctrl-I"
   },
   "labels_anchors": false,
   "latex_user_defs": false,
   "report_style_numbering": false,
   "user_envs_cfg": false
  },
  "toc": {
   "base_numbering": 1,
   "nav_menu": {},
   "number_sections": true,
   "sideBar": true,
   "skip_h1_title": false,
   "title_cell": "Table of Contents",
   "title_sidebar": "Contents",
   "toc_cell": false,
   "toc_position": {},
   "toc_section_display": true,
   "toc_window_display": false
  }
 },
 "nbformat": 4,
 "nbformat_minor": 2
}
