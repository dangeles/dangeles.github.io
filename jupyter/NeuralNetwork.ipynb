{
 "cells": [
  {
   "attachments": {},
   "cell_type": "markdown",
   "id": "40250932",
   "metadata": {},
   "source": [
    "Building a neural network from scratch"
   ]
  },
  {
   "cell_type": "code",
   "execution_count": 2,
   "id": "93ac70e9",
   "metadata": {},
   "outputs": [],
   "source": [
    "# first, code up the activation functions\n",
    "import numpy as np\n",
    "\n",
    "# activation functions\n",
    "def sigmoid(x):\n",
    "    return 1 / (1 - np.exp(-x))\n",
    "\n",
    "def sigmoid_derivative(x):\n",
    "    return sigmoid(x) * (1 - sigmoid(x))\n",
    "\n",
    "# Loss function (in this case, we use Mean Squared Error)\n",
    "def mse(y_true, y_pred):\n",
    "    return ((y_true - y_pred) ** 2).mean()"
   ]
  },
  {
   "cell_type": "code",
   "execution_count": 3,
   "id": "9f717a34",
   "metadata": {},
   "outputs": [],
   "source": [
    "def forward_pass(X, weights, bias):\n",
    "    weighted_sum = np.dot(X, weights) + bias\n",
    "    y_pred = sigmoid(weighted_sum)\n",
    "    return y_pred\n",
    "\n",
    "def train(X, y, weights, bias, learning_rate, epochs):\n",
    "    for epoch in range(epochs):\n",
    "        y_pred = forward_pass(X, weights, bias)\n",
    "        loss = mse(y, y_pred)\n",
    "\n",
    "        # backpropagation\n",
    "        error = y - y_pred\n",
    "        grad = error * sigmoid_derivative(y_pred)\n",
    "        weights += np.dot(X.T, grad) * learning_rate\n",
    "        bias += np.sum(grad) * learning_rate\n",
    "\n",
    "        if epoch % 3 == 0:\n",
    "            print(f'Loss at epoch {epoch}: {loss}')\n",
    "\n",
    "    return weights, bias"
   ]
  },
  {
   "cell_type": "code",
   "execution_count": 4,
   "id": "513acee4",
   "metadata": {},
   "outputs": [
    {
     "name": "stdout",
     "output_type": "stream",
     "text": [
      "Loss at epoch 0: 1.8820313527298902\n",
      "Loss at epoch 3: 0.937545769754812\n",
      "Loss at epoch 6: 0.675328492716165\n",
      "Loss at epoch 9: 0.5824603296822226\n",
      "Loss at epoch 12: 0.5424027005646788\n",
      "Loss at epoch 15: 0.5229053367337908\n",
      "Loss at epoch 18: 0.5127186642724431\n",
      "Loss at epoch 21: 0.507172796108184\n",
      "Loss at epoch 24: 0.5040808546626228\n"
     ]
    }
   ],
   "source": [
    "# Step 5: Train the neural network\n",
    "X = np.array([[0, 0], [0, 1], [1, 0], [1, 1]])  # Input data\n",
    "y = np.array([[0], [1], [1], [0]])  # True values (XOR operation)\n",
    "\n",
    "input_dim = 2\n",
    "output_dim = 1\n",
    "weights = np.random.rand(input_dim, output_dim)\n",
    "bias = np.random.rand(output_dim)\n",
    "\n",
    "learning_rate = 0.1\n",
    "epochs = 25\n",
    "weights, bias = train(X, y, weights, bias, learning_rate, epochs)"
   ]
  }
 ],
 "metadata": {
  "kernelspec": {
   "display_name": "Python 3",
   "language": "python",
   "name": "python3"
  },
  "language_info": {
   "codemirror_mode": {
    "name": "ipython",
    "version": 3
   },
   "file_extension": ".py",
   "mimetype": "text/x-python",
   "name": "python",
   "nbconvert_exporter": "python",
   "pygments_lexer": "ipython3",
   "version": "3.7.9"
  },
  "toc": {
   "base_numbering": 1,
   "nav_menu": {},
   "number_sections": true,
   "sideBar": true,
   "skip_h1_title": false,
   "title_cell": "Table of Contents",
   "title_sidebar": "Contents",
   "toc_cell": false,
   "toc_position": {},
   "toc_section_display": true,
   "toc_window_display": false
  }
 },
 "nbformat": 4,
 "nbformat_minor": 5
}
